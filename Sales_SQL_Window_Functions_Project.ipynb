{
 "cells": [
  {
   "cell_type": "markdown",
   "id": "92a0d75a",
   "metadata": {},
   "source": [
    "# 📊 Sales Performance Insights Using SQL Window Functions"
   ]
  },
  {
   "cell_type": "markdown",
   "id": "557b6881",
   "metadata": {},
   "source": [
    "\n",
    "In this project, we explore **advanced SQL Window Functions** to analyze sales performance data.\n",
    "We use SQLite (in-memory) and a mock dataset of employee sales to answer business questions such as:\n",
    "- Rank of employees within their region\n",
    "- Sales trends month-over-month\n",
    "- Sales quartiles\n"
   ]
  },
  {
   "cell_type": "code",
   "execution_count": null,
   "id": "af83d8cb",
   "metadata": {},
   "outputs": [],
   "source": [
    "\n",
    "import pandas as pd\n",
    "import sqlite3\n",
    "\n",
    "# Load dataset\n",
    "df = pd.read_csv(\"sales_data.csv\")\n",
    "df.head()\n"
   ]
  },
  {
   "cell_type": "code",
   "execution_count": null,
   "id": "0fcf18fe",
   "metadata": {},
   "outputs": [],
   "source": [
    "\n",
    "# Create SQLite in-memory DB\n",
    "conn = sqlite3.connect(':memory:')\n",
    "df.to_sql('sales', conn, index=False, if_exists='replace')\n"
   ]
  },
  {
   "cell_type": "markdown",
   "id": "4cf10780",
   "metadata": {},
   "source": [
    "### 🧮 ROW_NUMBER(): Assign row number within each employee's sales history"
   ]
  },
  {
   "cell_type": "code",
   "execution_count": null,
   "id": "7be42fc7",
   "metadata": {},
   "outputs": [],
   "source": [
    "\n",
    "query = '''\n",
    "SELECT Employee, Region, Month, Sales,\n",
    "       ROW_NUMBER() OVER (PARTITION BY Employee ORDER BY Month) AS row_num\n",
    "FROM sales\n",
    "'''\n",
    "pd.read_sql_query(query, conn)\n"
   ]
  },
  {
   "cell_type": "markdown",
   "id": "25a17337",
   "metadata": {},
   "source": [
    "### 🥇 RANK(): Rank employees by sales within their region"
   ]
  },
  {
   "cell_type": "code",
   "execution_count": null,
   "id": "25e2016c",
   "metadata": {},
   "outputs": [],
   "source": [
    "\n",
    "query = '''\n",
    "SELECT Employee, Region, Sales,\n",
    "       RANK() OVER (PARTITION BY Region ORDER BY Sales DESC) AS region_rank\n",
    "FROM sales\n",
    "'''\n",
    "pd.read_sql_query(query, conn)\n"
   ]
  },
  {
   "cell_type": "markdown",
   "id": "48a84530",
   "metadata": {},
   "source": [
    "### ⏮️ LAG(): Compare current month sales with previous month"
   ]
  },
  {
   "cell_type": "code",
   "execution_count": null,
   "id": "dc320279",
   "metadata": {},
   "outputs": [],
   "source": [
    "\n",
    "query = '''\n",
    "SELECT Employee, Region, Month, Sales,\n",
    "       LAG(Sales) OVER (PARTITION BY Employee ORDER BY Month) AS previous_sales\n",
    "FROM sales\n",
    "'''\n",
    "pd.read_sql_query(query, conn)\n"
   ]
  },
  {
   "cell_type": "markdown",
   "id": "3965c5f0",
   "metadata": {},
   "source": [
    "### 📊 NTILE(4): Divide employees into 4 performance groups based on sales"
   ]
  },
  {
   "cell_type": "code",
   "execution_count": null,
   "id": "3321e486",
   "metadata": {},
   "outputs": [],
   "source": [
    "\n",
    "query = '''\n",
    "SELECT Employee, Sales,\n",
    "       NTILE(4) OVER (ORDER BY Sales DESC) AS quartile\n",
    "FROM sales\n",
    "'''\n",
    "pd.read_sql_query(query, conn)\n"
   ]
  }
 ],
 "metadata": {},
 "nbformat": 4,
 "nbformat_minor": 5
}
